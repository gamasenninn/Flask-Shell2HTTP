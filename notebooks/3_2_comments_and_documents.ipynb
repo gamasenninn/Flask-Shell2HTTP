{
  "nbformat": 4,
  "nbformat_minor": 0,
  "metadata": {
    "colab": {
      "provenance": [],
      "authorship_tag": "ABX9TyOLv1vog8Xn8IGnmEoWB1+e"
    },
    "kernelspec": {
      "name": "python3",
      "display_name": "Python 3"
    },
    "language_info": {
      "name": "python"
    }
  },
  "cells": [
    {
      "cell_type": "markdown",
      "source": [
        "## インラインコメントを追加してもらう"
      ],
      "metadata": {
        "id": "UpXn_sBqe230"
      }
    },
    {
      "cell_type": "code",
      "execution_count": null,
      "metadata": {
        "colab": {
          "base_uri": "https://localhost:8080/"
        },
        "id": "SvC2z5sydFuG",
        "outputId": "f9e6256c-f225-45d0-c98f-bb639d69644c"
      },
      "outputs": [
        {
          "output_type": "stream",
          "name": "stdout",
          "text": [
            "[-1, 4, -3, 8, -5]\n"
          ]
        }
      ],
      "source": [
        "def process_data(data):\n",
        "    result = []\n",
        "    for item in data:\n",
        "        if item % 2 == 0:\n",
        "            result.append(item * 2)\n",
        "        else:\n",
        "            result.append(item * -1)\n",
        "    return result\n",
        "\n",
        "data = [1, 2, 3, 4, 5]\n",
        "processed_data = process_data(data)\n",
        "print(processed_data)"
      ]
    },
    {
      "cell_type": "code",
      "source": [
        "def process_data(data):\n",
        "    result = []  # 結果を格納する空のリストを初期化\n",
        "\n",
        "    # 入力データの各要素に対して反復処理を行う\n",
        "    for item in data:\n",
        "        # 要素が偶数かどうかを確認\n",
        "        if item % 2 == 0:\n",
        "            # 偶数の場合、値を2倍して結果リストに追加\n",
        "            result.append(item * 2)\n",
        "        else:\n",
        "            # 奇数の場合、値を負にして結果リストに追加\n",
        "            result.append(item * -1)\n",
        "\n",
        "    return result  # 処理済みデータを返す\n",
        "\n",
        "# サンプルの入力データ\n",
        "data = [1, 2, 3, 4, 5]\n",
        "# process_data関数を使って入力データを処理\n",
        "processed_data = process_data(data)\n",
        "# 処理済みデータを出力\n",
        "print(processed_data)"
      ],
      "metadata": {
        "colab": {
          "base_uri": "https://localhost:8080/"
        },
        "id": "Hq5u_DyOet0n",
        "outputId": "58fba04d-49b3-441e-8b11-3a00a0a26b75"
      },
      "execution_count": null,
      "outputs": [
        {
          "output_type": "stream",
          "name": "stdout",
          "text": [
            "[-1, 4, -3, 8, -5]\n"
          ]
        }
      ]
    },
    {
      "cell_type": "markdown",
      "source": [
        "## 関数ドキュメントを追加してもらう"
      ],
      "metadata": {
        "id": "ldftZ8HkfGFm"
      }
    },
    {
      "cell_type": "code",
      "source": [
        "def process_data(data):\n",
        "    result = []\n",
        "    for item in data:\n",
        "        if item % 2 == 0:\n",
        "            result.append(item * 2)\n",
        "        else:\n",
        "            result.append(item * -1)\n",
        "    return result"
      ],
      "metadata": {
        "id": "EjviZD-ofN_r"
      },
      "execution_count": null,
      "outputs": []
    },
    {
      "cell_type": "code",
      "source": [
        "def process_data(data):\n",
        "    \"\"\"\n",
        "    与えられた整数リストの各要素について処理を行い、新たなリストを生成します。\n",
        "    偶数要素は2倍し、奇数要素は符号を反転させます。\n",
        "\n",
        "    Parameters:\n",
        "    data (list of int): 処理対象の整数リスト。\n",
        "\n",
        "    Returns:\n",
        "    list of int: 処理結果の整数リスト。\n",
        "    \"\"\"\n",
        "    result = []\n",
        "    for item in data:\n",
        "        if item % 2 == 0:\n",
        "            result.append(item * 2)\n",
        "        else:\n",
        "            result.append(item * -1)\n",
        "    return result"
      ],
      "metadata": {
        "id": "awhqjRhmfZT4"
      },
      "execution_count": null,
      "outputs": []
    },
    {
      "cell_type": "code",
      "source": [
        "help(process_data)"
      ],
      "metadata": {
        "colab": {
          "base_uri": "https://localhost:8080/"
        },
        "id": "BFDsZ1rnfiPx",
        "outputId": "7bdd376d-60f4-4138-d475-d1cc6169dcc0"
      },
      "execution_count": null,
      "outputs": [
        {
          "output_type": "stream",
          "name": "stdout",
          "text": [
            "Help on function process_data in module __main__:\n",
            "\n",
            "process_data(data)\n",
            "    与えられた整数リストの各要素について処理を行い、新たなリストを生成します。\n",
            "    偶数要素は2倍し、奇数要素は符号を反転させます。\n",
            "    \n",
            "    Parameters:\n",
            "    data (list of int): 処理対象の整数リスト。\n",
            "    \n",
            "    Returns:\n",
            "    list of int: 処理結果の整数リスト。\n",
            "\n"
          ]
        }
      ]
    }
  ]
}